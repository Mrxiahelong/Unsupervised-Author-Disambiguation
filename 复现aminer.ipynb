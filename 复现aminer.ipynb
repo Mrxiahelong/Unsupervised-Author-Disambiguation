{
 "cells": [
  {
   "cell_type": "code",
   "execution_count": null,
   "metadata": {},
   "outputs": [],
   "source": []
  },
  {
   "cell_type": "code",
   "execution_count": 365,
   "metadata": {},
   "outputs": [],
   "source": [
    "from xml.dom.minidom import parse\n",
    "import json\n",
    "import numpy as np\n",
    "import collections\n",
    "import torch\n",
    "import random\n",
    "import dgl\n",
    "import scipy\n",
    "import scipy.sparse as spp\n",
    "import pickle\n",
    "from tqdm import tqdm\n",
    "import torch.nn as nn\n",
    "import dgl.nn as dglnn\n",
    "import torch.nn.functional as F\n",
    "from tqdm import tqdm\n",
    "name='David Cooper'"
   ]
  },
  {
   "cell_type": "code",
   "execution_count": 366,
   "metadata": {},
   "outputs": [],
   "source": [
    "domTree = parse(\"./data/raw-data/{0}.xml\".format(name))\n",
    "rootNode = domTree.documentElement\n",
    "pubs=rootNode.getElementsByTagName(\"publication\")"
   ]
  },
  {
   "cell_type": "code",
   "execution_count": null,
   "metadata": {},
   "outputs": [],
   "source": []
  },
  {
   "cell_type": "code",
   "execution_count": null,
   "metadata": {},
   "outputs": [],
   "source": []
  },
  {
   "cell_type": "code",
   "execution_count": 367,
   "metadata": {},
   "outputs": [],
   "source": [
    "#这部分是从数据里读出数据\n",
    "# read data from aminer\n",
    "paper_data_list=[]\n",
    "labels=[]\n",
    "names=[]\n",
    "for pub in pubs:\n",
    "    paper={}\n",
    "    title=pub.getElementsByTagName('title')[0].childNodes[0].data\n",
    "    year=pub.getElementsByTagName('year')[0].childNodes[0].data\n",
    "    authors=pub.getElementsByTagName('authors')[0].childNodes[0].data.split(',')\n",
    "    org=pub.getElementsByTagName('organization')[0].childNodes[0].data\n",
    "        \n",
    "    venue=pub.getElementsByTagName('jconf')[0].childNodes[0].data\n",
    "    label=pub.getElementsByTagName('label')[0].childNodes[0].data\n",
    "    paper['title']=title\n",
    "    paper['year']=year\n",
    "    paper['authors']=[{'name':author,'org':org} for author in authors]\n",
    "    paper['venue']=venue\n",
    "    paper['label']=label\n",
    "    labels.append(int(label))\n",
    "    paper_data_list.append(paper)\n",
    "    names.append(authors)\n",
    "labels=np.array(labels)"
   ]
  },
  {
   "cell_type": "code",
   "execution_count": null,
   "metadata": {},
   "outputs": [],
   "source": []
  },
  {
   "cell_type": "code",
   "execution_count": 368,
   "metadata": {},
   "outputs": [],
   "source": [
    "#这儿建立coauthor图,两个论文节点之间若有共同作者，即存在边，且保存权重\n",
    "#create coauthor graph,if two papers have same authors,the edge betwwen papers created,and save weigths \n",
    "sum_papers=len(paper_data_list)\n",
    "coauthor_graph=np.zeros((sum_papers,sum_papers))\n",
    "name=name.lower().replace('-',' ').replace('_',' ').replace(' ','')\n",
    "def process_authorname(names,specify):\n",
    "    result=set()\n",
    "    for name in names:\n",
    "        name=name.lower()\n",
    "        name=name.replace('-',' ').replace('_',' ').replace(' ','')\n",
    "        if name!=specify:\n",
    "            result.add(name)\n",
    "    return result\n",
    "weights_coauthor=np.zeros((sum_papers,sum_papers))\n",
    "for i in range(sum_papers):\n",
    "    for j in range(sum_papers):\n",
    "        if i !=j:\n",
    "            authors_i=set(map(lambda x:x['name'],paper_data_list[i]['authors']))\n",
    "            authors_i=process_authorname(authors_i,name)\n",
    "            authors_j=set(map(lambda x:x['name'],paper_data_list[j]['authors']))\n",
    "            authors_j=process_authorname(authors_j,name)\n",
    "            co_authors=authors_i&authors_j\n",
    "            \n",
    "            coauthor_graph[i][j]=coauthor_graph[j][i]=len(co_authors)#这儿是权重图\n",
    "            weights_coauthor[i][j]=weights_coauthor[j][i]=len(co_authors)\n",
    "coo_graph=spp.coo_matrix(coauthor_graph)\n",
    "coauthor_graph=dgl.from_scipy(coo_graph)\n",
    "#建立权重\n",
    "coauthor_weight=torch.ones(coauthor_graph.num_edges(),1)\n",
    "\n",
    "for i,(src,dst) in enumerate(zip(coauthor_graph.edges()[0],coauthor_graph.edges()[1])):\n",
    "    weight=weights_coauthor[src][dst]\n",
    "    if weight!=0:\n",
    "        coauthor_weight[i]=weight\n",
    "coauthor_graph.edata['weights']=coauthor_weight"
   ]
  },
  {
   "cell_type": "code",
   "execution_count": null,
   "metadata": {},
   "outputs": [],
   "source": []
  },
  {
   "cell_type": "code",
   "execution_count": 369,
   "metadata": {},
   "outputs": [],
   "source": [
    "#建立cotitle图,将两个结点的title 分词后去除停用词，若两节点的title有共同的词，则存在边，权重为共同词的多少\n",
    "#create cotitle graph,if two papers's title have the same words,the edge between two papers created,weigths is the num of cotitles\n",
    "def create_stopwords(path):\n",
    "    stop_words=[]\n",
    "    with open(path,'r',encoding='utf-8') as f:\n",
    "        for line in f:\n",
    "            word=line.strip()\n",
    "            stop_words.append(word)\n",
    "    return stop_words\n",
    "def remove_stops(title,stop_words):\n",
    "    title=title.lower().split(' ')\n",
    "    res=[]\n",
    "    for word in title:\n",
    "        if word not in stop_words:\n",
    "            res.append(word)\n",
    "    return res\n",
    "stop_words=create_stopwords('stop_words.txt')#建立停用词\n",
    "\n",
    "cotitle_graph=np.zeros((sum_papers,sum_papers))\n",
    "weights_cotitle=np.zeros((sum_papers,sum_papers))\n",
    "for i in range(sum_papers):\n",
    "    for j in range(sum_papers):\n",
    "        if i!=j:\n",
    "            title_i,title_j=set(remove_stops(paper_data_list[i]['title'],stop_words)),set(remove_stops(paper_data_list[j]['title'],stop_words))\n",
    "            co_title=title_i&title_j\n",
    "            cotitle_graph[i][j]=cotitle_graph[j][i]=len(co_title)\n",
    "            if len(co_title)!=0:\n",
    "                weights_cotitle[i][j]=weights_cotitle[j][i]=len(co_title)\n",
    "coo_graph=spp.coo_matrix(cotitle_graph)\n",
    "cotitle_graph=dgl.from_scipy(coo_graph)\n",
    "#建立权重\n",
    "cotitle_weight=torch.ones(cotitle_graph.num_edges(),1)\n",
    "\n",
    "for i,(src,dst) in enumerate(zip(cotitle_graph.edges()[0],cotitle_graph.edges()[1])):\n",
    "    weight=weights_cotitle[src][dst]\n",
    "    if weight!=0:\n",
    "        cotitle_weight[i]=weight\n",
    "cotitle_graph.edata['weights']=cotitle_weight"
   ]
  },
  {
   "cell_type": "code",
   "execution_count": null,
   "metadata": {},
   "outputs": [],
   "source": []
  },
  {
   "cell_type": "code",
   "execution_count": null,
   "metadata": {},
   "outputs": [],
   "source": []
  },
  {
   "cell_type": "code",
   "execution_count": 370,
   "metadata": {},
   "outputs": [],
   "source": [
    "#建立coVenue图\n",
    "#create covenue graph,if two papers have the same venue,the edge between two papers created \n",
    "covenue_graph=torch.zeros((sum_papers,sum_papers))\n",
    "weights_covenue=np.zeros((sum_papers,sum_papers))\n",
    "for i in range(sum_papers):\n",
    "    for j in range(sum_papers):\n",
    "        if i!=j:\n",
    "            venue_i,venue_j=paper_data_list[i]['venue'].lower(),paper_data_list[j]['venue'].lower()\n",
    "            if venue_i=='null' or venue_j=='null':\n",
    "                continue\n",
    "            if venue_i==venue_j:\n",
    "                covenue_graph[i][j]=covenue_graph[j][i]=1\n",
    "                weights_covenue[i][j]=weights_covenue[j][i]=1\n",
    "coo_graph=spp.coo_matrix(covenue_graph)\n",
    "covenue_graph=dgl.from_scipy(coo_graph)\n",
    "\n",
    "covenue_weight=torch.ones(covenue_graph.num_edges(),1)\n",
    "for i,(src,dst) in enumerate(zip(covenue_graph.edges()[0],covenue_graph.edges()[1])):\n",
    "    weight=weights_covenue[src][dst]\n",
    "    if weight!=0:\n",
    "        covenue_weight[i]=weight\n",
    "covenue_graph.edata['weights']=covenue_weight"
   ]
  },
  {
   "cell_type": "code",
   "execution_count": null,
   "metadata": {},
   "outputs": [],
   "source": []
  },
  {
   "cell_type": "code",
   "execution_count": null,
   "metadata": {},
   "outputs": [],
   "source": []
  },
  {
   "cell_type": "code",
   "execution_count": 371,
   "metadata": {},
   "outputs": [],
   "source": [
    "#按照论文所写，这里需要使用Doc2Vec对abstracts,title进行向量化\n",
    "#according to the paper,here we use the DOc2vec to get the title,abstracts embdding.\n",
    "titles=list(map(lambda x:x['title'].lower(),paper_data_list))\n",
    "from gensim.models.doc2vec import Doc2Vec, TaggedDocument\n",
    "from nltk.tokenize import word_tokenize\n",
    "import nltk\n",
    "#这是对titles进行doc2vec\n",
    "corpora_documents = []\n",
    "doc=[] \n",
    "for i, item_text in enumerate(titles):\n",
    "    words_list=[]\n",
    "    item_text=item_text.replace('.','').replace(',','').lower()\n",
    "    item=(item_text.split(' '))\n",
    "    for j in list(item):\n",
    "        words_list.append(j)\n",
    "    document = TaggedDocument(words=words_list, tags=[i])\n",
    "    corpora_documents.append(document)\n",
    "    doc.append(words_list)\n",
    "model_t=Doc2Vec(corpora_documents,min_count=1,window=3,dm=0)\n",
    "model_t.train(corpora_documents, total_examples=model_t.corpus_count, epochs=70)\n",
    "titles_vec=[model_t.infer_vector(line.replace(',','').replace('.','').lower().split(' ')) for line in titles]\n",
    "titles_vec=torch.tensor(titles_vec)\n",
    "node_features=titles_vec\n"
   ]
  },
  {
   "cell_type": "code",
   "execution_count": null,
   "metadata": {},
   "outputs": [],
   "source": []
  },
  {
   "cell_type": "code",
   "execution_count": null,
   "metadata": {},
   "outputs": [],
   "source": []
  },
  {
   "cell_type": "code",
   "execution_count": 372,
   "metadata": {},
   "outputs": [],
   "source": [
    "hete_graph=dgl.heterograph({\n",
    "    ('paper','coauthor','paper'):coauthor_graph.edges(),\n",
    "    ('paper','cotitle','paper'):cotitle_graph.edges(),\n",
    "    ('paper','covenue','paper'):covenue_graph.edges()\n",
    "})"
   ]
  },
  {
   "cell_type": "code",
   "execution_count": null,
   "metadata": {},
   "outputs": [],
   "source": []
  },
  {
   "cell_type": "code",
   "execution_count": null,
   "metadata": {},
   "outputs": [],
   "source": []
  },
  {
   "cell_type": "code",
   "execution_count": 373,
   "metadata": {},
   "outputs": [],
   "source": [
    "def positive_sampler(path):\n",
    "    pos_u,pos_v=[],[]\n",
    "    for i in range(len(path)):\n",
    "        if len(path)==1:\n",
    "            continue\n",
    "        u=path[i]\n",
    "        v=np.concatenate([path[max(i-window,0):i],path[i+1:i+window+1]],axis=0)\n",
    "        pos_u.extend([u]*len(v))\n",
    "        pos_v.extend(v)\n",
    "    return pos_u,pos_v    \n",
    "def get_negative_ratio(metapath):\n",
    "    node_frequency=dict()\n",
    "    sentence_count,node_count=0,0\n",
    "    for path in metapath:\n",
    "        for node in path:\n",
    "            node_frequency[node]=node_frequency.get(node,0)+1\n",
    "            node_count+=1\n",
    "    pow_frequency=np.array(list(map(lambda x:x[-1],sorted(node_frequency.items(),key=lambda asd:asd[0]))))**0.75\n",
    "    node_pow=np.sum(pow_frequency)\n",
    "    ratio=pow_frequency/node_pow\n",
    "    return ratio\n",
    "def negative_sampler(path,ratio,nodes):\n",
    "    negtives_size=5\n",
    "    negatives=[]\n",
    "    while len(negatives)<5:\n",
    "        temp=np.random.choice(nodes, size=negtives_size-len(negatives), replace=False, p=ratio)\n",
    "        negatives.extend([node for node in temp if node not in path])\n",
    "    return negatives"
   ]
  },
  {
   "cell_type": "code",
   "execution_count": null,
   "metadata": {},
   "outputs": [],
   "source": []
  },
  {
   "cell_type": "code",
   "execution_count": 374,
   "metadata": {},
   "outputs": [
    {
     "name": "stderr",
     "output_type": "stream",
     "text": [
      "100%|██████████████████████████████████████████████████████████████████████████████████| 10/10 [00:01<00:00,  7.61it/s]\n"
     ]
    }
   ],
   "source": [
    "def create_node2node_dict(graph):\n",
    "    src_dst={}\n",
    "    for src,dst in zip(graph.edges()[0],graph.edges()[1]):\n",
    "        src,dst=src.item(),dst.item()\n",
    "        if src not in src_dst.keys():\n",
    "            src_dst[src]=[]\n",
    "        src_dst[src].append(dst)\n",
    "    return src_dst\n",
    "window=2# 这里是取metapath时的窗口大小\n",
    "metapaths=[]#所有的metapath\n",
    "num_walks=10#每个结点run 多少遍\n",
    "walk_len=100#每个path的长度\n",
    "metapath_type=['coauthor','covenue','coauthor','cotitle']#根据论文，作者使用的是AVAT\n",
    "\n",
    "edge_per_graph={}#对应每个图，建立个字典，每个字典的key为结点编号，value为key在该图中可以到达的结点编号\n",
    "edge_per_graph['coauthor']=create_node2node_dict(coauthor_graph)\n",
    "edge_per_graph['cotitle']=create_node2node_dict(cotitle_graph)\n",
    "edge_per_graph['covenue']=create_node2node_dict(covenue_graph)\n",
    "weights_all_graph={'coauthor':weights_coauthor,'cotitle':weights_cotitle,'covenue':weights_covenue}\n",
    "\n",
    "def Is_isolate(node):\n",
    "    for rel in metapath_type:\n",
    "        if node in edge_per_graph[rel].keys():\n",
    "            return 0\n",
    "    return 1\n",
    "for walk in tqdm(range(num_walks)):\n",
    "    for cur_node in list(range(len(labels))):\n",
    "        stop=0\n",
    "        path=[]\n",
    "        path.append(cur_node)\n",
    "        while len(path)<walk_len and stop==0:\n",
    "            for rel in metapath_type:\n",
    "                if len(path)==walk_len or Is_isolate(cur_node):\n",
    "                    stop=1\n",
    "                    break\n",
    "                if edge_per_graph[rel].get(cur_node,-1)==-1:\n",
    "                    continue\n",
    "                    \n",
    "                cand_nodes=edge_per_graph[rel][cur_node]\n",
    "                weights_per_candnodes=weights_all_graph[rel][cur_node][cand_nodes]\n",
    "\n",
    "                weighted_ratio=weights_per_candnodes*1.0/np.sum(weights_per_candnodes)\n",
    "                cur_node=np.random.choice(cand_nodes,size=1,p=weighted_ratio)[0]\n",
    "                path.append(cur_node)\n",
    "        metapaths.append(path)\n",
    "\n",
    "pos_us,pos_vs,neg_vs=[],[],[]\n",
    "nodes=list(range(sum_papers))\n",
    "ratio=get_negative_ratio(metapaths)\n",
    "for path in metapaths:\n",
    "    pos_u,pos_v=positive_sampler(path)\n",
    "    for u,v in zip(pos_u,pos_v):\n",
    "        negative_nodes=negative_sampler(path,ratio,nodes)\n",
    "        neg_vs.append(negative_nodes)\n",
    "    pos_us.extend(pos_u)\n",
    "    pos_vs.extend(pos_v)\n",
    "pos_us=torch.LongTensor(pos_us)\n",
    "pos_vs=torch.LongTensor(pos_vs)\n",
    "neg_vs=torch.LongTensor(neg_vs)"
   ]
  },
  {
   "cell_type": "code",
   "execution_count": null,
   "metadata": {
    "scrolled": true
   },
   "outputs": [],
   "source": []
  },
  {
   "cell_type": "code",
   "execution_count": null,
   "metadata": {},
   "outputs": [],
   "source": []
  },
  {
   "cell_type": "code",
   "execution_count": null,
   "metadata": {},
   "outputs": [],
   "source": []
  },
  {
   "cell_type": "code",
   "execution_count": null,
   "metadata": {},
   "outputs": [],
   "source": []
  },
  {
   "cell_type": "code",
   "execution_count": null,
   "metadata": {},
   "outputs": [],
   "source": []
  },
  {
   "cell_type": "code",
   "execution_count": null,
   "metadata": {
    "scrolled": true
   },
   "outputs": [],
   "source": []
  },
  {
   "cell_type": "code",
   "execution_count": null,
   "metadata": {},
   "outputs": [],
   "source": []
  },
  {
   "cell_type": "code",
   "execution_count": null,
   "metadata": {},
   "outputs": [],
   "source": []
  },
  {
   "cell_type": "code",
   "execution_count": null,
   "metadata": {},
   "outputs": [],
   "source": []
  },
  {
   "cell_type": "code",
   "execution_count": null,
   "metadata": {},
   "outputs": [],
   "source": []
  },
  {
   "cell_type": "code",
   "execution_count": null,
   "metadata": {},
   "outputs": [],
   "source": []
  },
  {
   "cell_type": "code",
   "execution_count": 387,
   "metadata": {},
   "outputs": [],
   "source": [
    "from torch.nn import init\n",
    "class RGCN(nn.Module):\n",
    "    def __init__(self,in_features,hidden_features,n_classes):\n",
    "        super(RGCN,self).__init__()\n",
    "        self.conv1_1=dglnn.SAGEConv(in_feats=in_features,out_feats=hidden_features,aggregator_type='gcn')\n",
    "        self.conv1_2=dglnn.SAGEConv(in_feats=hidden_features,out_feats=n_classes,aggregator_type='gcn')\n",
    "        \n",
    "        self.conv2_1=dglnn.SAGEConv(in_feats=in_features,out_feats=hidden_features,aggregator_type='gcn')\n",
    "        self.conv2_2=dglnn.SAGEConv(in_feats=hidden_features,out_feats=n_classes,aggregator_type='gcn')\n",
    "\n",
    "        self.conv3_1=dglnn.SAGEConv(in_feats=in_features,out_feats=hidden_features,aggregator_type='gcn')\n",
    "        self.conv3_2=dglnn.SAGEConv(in_feats=hidden_features,out_feats=n_classes,aggregator_type='gcn')\n",
    "        \n",
    "        self.dropout=nn.Dropout(0.1)\n",
    "        self.batch_norm1=nn.BatchNorm1d(in_features)\n",
    "        self.batch_norm2=nn.BatchNorm1d(hidden_features)\n",
    "        self.batch_norm3=nn.BatchNorm1d(n_classes)\n",
    "    def forward(self,graph1,graph2,graph3,x):\n",
    "        x=self.batch_norm1(x)\n",
    "        x=self.dropout(x)\n",
    "        x1_1=self.conv1_1(graph1,x)\n",
    "        x1_2=self.conv2_1(graph2,x)\n",
    "        x1_3=self.conv3_1(graph3,x)\n",
    "        x=F.relu(x1_1+x1_2+x1_3)\n",
    "        x=self.batch_norm2(x)\n",
    "        x=self.dropout(x)\n",
    "        x2_1=self.conv1_2(graph1,x)\n",
    "        x2_2=self.conv2_2(graph2,x)\n",
    "        x2_3=self.conv3_2(graph3,x)\n",
    "        x=x2_1+x2_2+x2_3\n",
    "        x=self.batch_norm3(x)\n",
    "        return x\n",
    "class SkipGramModel(nn.Module):\n",
    "\n",
    "    def __init__(self):\n",
    "        super(SkipGramModel, self).__init__()\n",
    "    def forward(self, pos_u, pos_v, neg_v,logits):\n",
    "        emb_u = logits[pos_u]\n",
    "        emb_v = logits[pos_v]\n",
    "        emb_neg_v = logits[neg_v]\n",
    "\n",
    "        score = torch.sum(torch.mul(emb_u, emb_v), dim=1)\n",
    "        score = torch.clamp(score, max=10, min=-10)\n",
    "        score = -F.logsigmoid(score)\n",
    "\n",
    "        neg_score = torch.bmm(emb_neg_v, emb_u.unsqueeze(2)).squeeze()\n",
    "        neg_score = torch.clamp(neg_score, max=10, min=-10)\n",
    "        neg_score = -torch.sum(F.logsigmoid(-neg_score), dim=1)\n",
    "\n",
    "        return torch.mean(score + neg_score),score,neg_score"
   ]
  },
  {
   "cell_type": "code",
   "execution_count": null,
   "metadata": {},
   "outputs": [],
   "source": []
  },
  {
   "cell_type": "code",
   "execution_count": 389,
   "metadata": {},
   "outputs": [
    {
     "name": "stderr",
     "output_type": "stream",
     "text": [
      "c:\\python3.6\\lib\\site-packages\\ipykernel_launcher.py:9: UserWarning: To copy construct from a tensor, it is recommended to use sourceTensor.clone().detach() or sourceTensor.clone().detach().requires_grad_(True), rather than torch.tensor(sourceTensor).\n",
      "  if __name__ == '__main__':\n"
     ]
    },
    {
     "name": "stdout",
     "output_type": "stream",
     "text": [
      "epoch 0  loss 3.219543695449829\n",
      "epoch 20  loss 1.4345829486846924\n",
      "epoch 40  loss 0.7769383788108826\n",
      "epoch 60  loss 0.6995971202850342\n",
      "epoch 80  loss 0.6900938153266907\n",
      "epoch 100  loss 0.6867356896400452\n",
      "epoch 120  loss 0.6592167615890503\n",
      "epoch 140  loss 0.7181817293167114\n",
      "epoch 160  loss 0.6571433544158936\n",
      "epoch 180  loss 0.6265724301338196\n"
     ]
    }
   ],
   "source": [
    "model=RGCN(node_features.shape[-1],128,64)\n",
    "skip_model=SkipGramModel()\n",
    "optimizer=torch.optim.Adam(nn.ModuleList([skip_model,model]).parameters(),lr=0.001,weight_decay=0.0001)\n",
    "losses=[]\n",
    "for epoch in range(200):\n",
    "    model.train()\n",
    "    optimizer.zero_grad()\n",
    "    logits=model(coauthor_graph,cotitle_graph,covenue_graph,node_features)\n",
    "    loss,score,neg_score=skip_model(torch.tensor(pos_us),torch.tensor(pos_vs),torch.tensor(neg_vs),logits)\n",
    "    loss.backward()\n",
    "    optimizer.step()\n",
    "    losses.append(loss.item())\n",
    "    if epoch %20==0:\n",
    "        print('epoch {0}  loss {1}'.format(epoch,loss))"
   ]
  },
  {
   "cell_type": "code",
   "execution_count": null,
   "metadata": {},
   "outputs": [],
   "source": []
  },
  {
   "cell_type": "code",
   "execution_count": null,
   "metadata": {},
   "outputs": [],
   "source": []
  },
  {
   "cell_type": "code",
   "execution_count": 391,
   "metadata": {},
   "outputs": [
    {
     "name": "stdout",
     "output_type": "stream",
     "text": [
      "Kmeans  F值为 0.5932098765432099\n"
     ]
    },
    {
     "data": {
      "image/png": "[encoded data removed]",
      "text/plain": [
       "<matplotlib.figure.Figure at 0x26e23019a58>"
      ]
     },
     "metadata": {
      "needs_background": "light"
     },
     "output_type": "display_data"
    },
    {
     "name": "stderr",
     "output_type": "stream",
     "text": [
      "C:\\GNN\\fuxian\\metrics.py:20: RuntimeWarning: invalid value encountered in true_divide\n",
      "  F=(2* precision*recall)/(precision+recall)\n"
     ]
    },
    {
     "name": "stdout",
     "output_type": "stream",
     "text": [
      "AP  F值为 0.7217171717171719\n"
     ]
    },
    {
     "data": {
      "image/png": "[encoded data removed]",
      "text/plain": [
       "<matplotlib.figure.Figure at 0x26e2354a9e8>"
      ]
     },
     "metadata": {
      "needs_background": "light"
     },
     "output_type": "display_data"
    },
    {
     "name": "stderr",
     "output_type": "stream",
     "text": [
      "C:\\GNN\\fuxian\\metrics.py:20: RuntimeWarning: invalid value encountered in true_divide\n",
      "  F=(2* precision*recall)/(precision+recall)\n"
     ]
    },
    {
     "name": "stdout",
     "output_type": "stream",
     "text": [
      "XMeans  F值为 0.4916666666666667\n"
     ]
    },
    {
     "data": {
      "image/png": "[encoded data removed]",
      "text/plain": [
       "<matplotlib.figure.Figure at 0x26e1e064278>"
      ]
     },
     "metadata": {
      "needs_background": "light"
     },
     "output_type": "display_data"
    },
    {
     "name": "stderr",
     "output_type": "stream",
     "text": [
      "C:\\GNN\\fuxian\\metrics.py:20: RuntimeWarning: invalid value encountered in true_divide\n",
      "  F=(2* precision*recall)/(precision+recall)\n"
     ]
    }
   ],
   "source": [
    "from sklearn.cluster import KMeans,AffinityPropagation\n",
    "from xmeans import XMeans\n",
    "from sklearn.decomposition import PCA\n",
    "from matplotlib import pyplot as plt\n",
    "from metrics import get_Fscore\n",
    "model.eval()\n",
    "logits=model(coauthor_graph,cotitle_graph,covenue_graph,node_features).detach().numpy()\n",
    "n_classes=len(set(labels))",
    "\n",
    "pca=PCA(n_components=2)\n",
    "X_pca = pca.fit_transform(logits)\n",
    "\n",
    "\n",
    "cluster_methods={'Kmeans':KMeans(n_clusters=n_classes),'AP':AffinityPropagation(preference=-1),'XMeans':XMeans(kmax=10)}\n",
    "i=1\n",
    "for cluster_name,method in cluster_methods.items():\n",
    "    plt.figure(figsize=(5,10))\n",
    "    plt.subplot(len(cluster_methods),1,i)\n",
    "    if cluster_name!='XMeans':\n",
    "        y_pred=method.fit_predict(logits)\n",
    "    else:\n",
    "        method.fit(logits)\n",
    "        y_pred=method.labels_\n",
    "        \n",
    "    plt.scatter(X_pca[:,0],X_pca[:,1],c=y_pred)\n",
    "    plt.show()\n",
    "    F_score=get_Fscore(labels,y_pred)\n",
    "    print(cluster_name,' F值为',F_score)\n",
    "    \n",
    "    i+=1"
   ]
  },
  {
   "cell_type": "code",
   "execution_count": null,
   "metadata": {},
   "outputs": [],
   "source": []
  },
  {
   "cell_type": "code",
   "execution_count": null,
   "metadata": {},
   "outputs": [],
   "source": []
  },
  {
   "cell_type": "code",
   "execution_count": null,
   "metadata": {},
   "outputs": [],
   "source": []
  },
  {
   "cell_type": "code",
   "execution_count": null,
   "metadata": {},
   "outputs": [],
   "source": []
  },
  {
   "cell_type": "code",
   "execution_count": null,
   "metadata": {},
   "outputs": [],
   "source": []
  },
  {
   "cell_type": "code",
   "execution_count": 392,
   "metadata": {},
   "outputs": [],
   "source": [
    "#单纯的metapath2vec\n",
    "import torch\n",
    "import torch.nn as nn\n",
    "import torch.nn.functional as F\n",
    "from torch.nn import init\n",
    "\n",
    "\"\"\"\n",
    "    u_embedding: Embedding for center word.\n",
    "    v_embedding: Embedding for neighbor words.\n",
    "\"\"\"\n",
    "\n",
    "\n",
    "class SkipGramModel2(nn.Module):\n",
    "\n",
    "    def __init__(self, emb_size, emb_dimension):\n",
    "        super(SkipGramModel2, self).__init__()\n",
    "        self.emb_size = emb_size\n",
    "        self.emb_dimension = emb_dimension\n",
    "        self.u_embeddings = nn.Embedding(emb_size, emb_dimension)\n",
    "        self.v_embeddings = nn.Embedding(emb_size, emb_dimension)\n",
    "\n",
    "        initrange = 1.0 / self.emb_dimension\n",
    "        init.uniform_(self.u_embeddings.weight.data, -initrange, initrange)\n",
    "        init.constant_(self.v_embeddings.weight.data, 0)\n",
    "\n",
    "    def forward(self, pos_u, pos_v, neg_v):\n",
    "        emb_u = self.u_embeddings(pos_u)\n",
    "        emb_v = self.v_embeddings(pos_v)\n",
    "        emb_neg_v = self.v_embeddings(neg_v)\n",
    "\n",
    "        score = torch.sum(torch.mul(emb_u, emb_v), dim=1)\n",
    "        score = torch.clamp(score, max=10, min=-10)\n",
    "        score = -F.logsigmoid(score)\n",
    "\n",
    "        neg_score = torch.bmm(emb_neg_v, emb_u.unsqueeze(2)).squeeze()\n",
    "        neg_score = torch.clamp(neg_score, max=10, min=-10)\n",
    "        neg_score = -torch.sum(F.logsigmoid(-neg_score), dim=1)\n",
    "\n",
    "        return torch.mean(score + neg_score)"
   ]
  },
  {
   "cell_type": "code",
   "execution_count": null,
   "metadata": {},
   "outputs": [],
   "source": []
  },
  {
   "cell_type": "code",
   "execution_count": null,
   "metadata": {
    "jupyter": {
     "outputs_hidden": true
    }
   },
   "outputs": [
    {
     "name": "stderr",
     "output_type": "stream",
     "text": [
      "c:\\python3.6\\lib\\site-packages\\ipykernel_launcher.py:5: UserWarning: To copy construct from a tensor, it is recommended to use sourceTensor.clone().detach() or sourceTensor.clone().detach().requires_grad_(True), rather than torch.tensor(sourceTensor).\n",
      "  \"\"\"\n"
     ]
    },
    {
     "name": "stdout",
     "output_type": "stream",
     "text": [
      "epoch 0  loss 4.158882141113281\n",
      "epoch 100  loss 2.2629382610321045\n",
      "epoch 200  loss 1.0820413827896118\n"
     ]
    }
   ],
   "source": [
    "skip_model2=SkipGramModel2(sum_papers,64)\n",
    "optimizer=torch.optim.Adam(skip_model2.parameters(),lr=0.001)\n",
    "for epoch in range(500):\n",
    "    optimizer.zero_grad()\n",
    "    loss=skip_model2(torch.tensor(pos_us),torch.tensor(pos_vs),torch.tensor(neg_vs))\n",
    "    loss.backward()\n",
    "    optimizer.step()\n",
    "    losses.append(loss.item())\n",
    "    if epoch %100==0:\n",
    "        print('epoch {0}  loss {1}'.format(epoch,loss))"
   ]
  },
  {
   "cell_type": "code",
   "execution_count": null,
   "metadata": {},
   "outputs": [],
   "source": []
  },
  {
   "cell_type": "code",
   "execution_count": null,
   "metadata": {},
   "outputs": [],
   "source": []
  },
  {
   "cell_type": "code",
   "execution_count": null,
   "metadata": {
    "jupyter": {
     "outputs_hidden": true
    }
   },
   "outputs": [],
   "source": [
    "from sklearn.cluster import KMeans,AffinityPropagation\n",
    "from xmeans import XMeans\n",
    "from sklearn.decomposition import PCA\n",
    "from matplotlib import pyplot as plt\n",
    "from metrics import get_Fscore\n",
    "\n",
    "logits=skip_model2.u_embeddings.weight.cpu().data.numpy()\n",
    "\n",
    "pca=PCA(n_components=2)\n",
    "X_pca = pca.fit_transform(logits)\n",
    "\n",
    "\n",
    "cluster_methods={'Kmeans':KMeans(n_clusters=n_classes),'AP':AffinityPropagation(preference=-60),'XMeans':XMeans(kmax=30)}\n",
    "i=1\n",
    "for cluster_name,method in cluster_methods.items():\n",
    "    print(cluster_name,' F值为',F_score)\n",
    "    plt.figure(figsize=(5,10))\n",
    "    plt.subplot(len(cluster_methods),1,i)\n",
    "    if cluster_name!='XMeans':\n",
    "        y_pred=method.fit_predict(logits)\n",
    "    else:\n",
    "        method.fit(logits)\n",
    "        y_pred=method.labels_\n",
    "        \n",
    "    plt.scatter(X_pca[:,0],X_pca[:,1],c=y_pred)\n",
    "    plt.show()\n",
    "    F_score=get_Fscore(labels,y_pred)\n",
    "    \n",
    "    i+=1"
   ]
  },
  {
   "cell_type": "code",
   "execution_count": null,
   "metadata": {},
   "outputs": [],
   "source": []
  },
  {
   "cell_type": "code",
   "execution_count": null,
   "metadata": {
    "jupyter": {
     "outputs_hidden": true
    }
   },
   "outputs": [],
   "source": []
  },
  {
   "cell_type": "code",
   "execution_count": null,
   "metadata": {},
   "outputs": [],
   "source": []
  },
  {
   "cell_type": "code",
   "execution_count": null,
   "metadata": {},
   "outputs": [],
   "source": []
  },
  {
   "cell_type": "code",
   "execution_count": null,
   "metadata": {},
   "outputs": [],
   "source": []
  },
  {
   "cell_type": "code",
   "execution_count": null,
   "metadata": {},
   "outputs": [],
   "source": []
  },
  {
   "cell_type": "code",
   "execution_count": null,
   "metadata": {},
   "outputs": [],
   "source": []
  },
  {
   "cell_type": "code",
   "execution_count": null,
   "metadata": {
    "jupyter": {
     "outputs_hidden": true
    }
   },
   "outputs": [],
   "source": []
  },
  {
   "cell_type": "code",
   "execution_count": null,
   "metadata": {},
   "outputs": [],
   "source": []
  },
  {
   "cell_type": "code",
   "execution_count": null,
   "metadata": {},
   "outputs": [],
   "source": []
  }
 ],
 "metadata": {
  "kernelspec": {
   "display_name": "Python 3",
   "language": "python",
   "name": "python3"
  },
  "language_info": {
   "codemirror_mode": {
    "name": "ipython",
    "version": 3
   },
   "file_extension": ".py",
   "mimetype": "text/x-python",
   "name": "python",
   "nbconvert_exporter": "python",
   "pygments_lexer": "ipython3",
   "version": "3.6.5"
  }
 },
 "nbformat": 4,
 "nbformat_minor": 4
}
